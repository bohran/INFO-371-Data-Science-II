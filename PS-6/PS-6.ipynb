{
 "cells": [
  {
   "cell_type": "markdown",
   "metadata": {},
   "source": [
    "# Problem Set 6 : Naive Bayes"
   ]
  },
  {
   "cell_type": "markdown",
   "metadata": {},
   "source": [
    "Partners: Katie Goulding & Aneesha Nanda (thank you Ott!!)"
   ]
  },
  {
   "cell_type": "code",
   "execution_count": 2,
   "metadata": {},
   "outputs": [],
   "source": [
    "import pandas as pd \n",
    "import numpy as np\n",
    "from sklearn.model_selection import train_test_split\n",
    "from sklearn.metrics import confusion_matrix"
   ]
  },
  {
   "cell_type": "markdown",
   "metadata": {},
   "source": [
    "# Part 1: Loading Data"
   ]
  },
  {
   "cell_type": "code",
   "execution_count": 57,
   "metadata": {},
   "outputs": [],
   "source": [
    "sample_df = pd.DataFrame()\n",
    "sample_df['Books'] = ['Shakespeare', 'Of Mice and Men', 'The Gift of Fire', 'The Giver']\n",
    "sample_df['Number of Pages'] = ['NaN','109', '87', 'NaN']\n",
    "sample_df.to_csv('sample_df.csv', index=False)\n",
    "sample_data = pd.read_csv('sample_df.csv')"
   ]
  },
  {
   "cell_type": "code",
   "execution_count": 58,
   "metadata": {},
   "outputs": [],
   "source": [
    "data = pd.read_csv('rotten-tomatoes.csv')\n",
    "working, testing = train_test_split(data, test_size=0.20, random_state=42)\n",
    "testing.to_csv('testing.csv', index = False)\n",
    "del(testing)"
   ]
  },
  {
   "cell_type": "markdown",
   "metadata": {},
   "source": [
    "# Part 2: Exploring Data"
   ]
  },
  {
   "cell_type": "code",
   "execution_count": 97,
   "metadata": {},
   "outputs": [
    {
     "name": "stdout",
     "output_type": "stream",
     "text": [
      "Number of missing 'Fresh' data: 0\n",
      "Number of missing 'Quote' data: 0\n",
      "Values of Evaluation: ['fresh' 'rotten' 'none']\n",
      "Number of 'Fresh & Rotten' ratings: fresh     6682\n",
      "rotten    4052\n",
      "none        19\n",
      "Name: fresh, dtype: int64\n",
      "Number of white spaces in quotes: 0\n",
      "Least number of words in a quote: 6\n",
      "Most number of words in a quote: 256\n",
      "Average number of words in a quote: 121.49009578722217\n",
      "Number of Duplicated Reviews: 386\n"
     ]
    }
   ],
   "source": [
    "#print(working.head)\n",
    "print(\"Number of missing 'Fresh' data:\", working['fresh'].isna().sum())\n",
    "print(\"Number of missing 'Quote' data:\", working['quote'].isna().sum())\n",
    "print(\"Values of Evaluation:\", working['fresh'].unique())\n",
    "print(\"Number of 'Fresh & Rotten' ratings:\", (working['fresh']).value_counts())\n",
    "print(\"Number of white spaces in quotes:\", len(working['quote']) - len(working['quote'].str.strip()))\n",
    "print(\"Least number of words in a quote:\", working.quote.str.len().min())\n",
    "print(\"Most number of words in a quote:\", working.quote.str.len().max())\n",
    "print(\"Average number of words in a quote:\", round(working.quote.str.len().sum())/(working.quote.str.len().size))\n",
    "print(\"Number of Duplicated Reviews:\", len(working[working.duplicated()]))"
   ]
  },
  {
   "cell_type": "code",
   "execution_count": 6,
   "metadata": {},
   "outputs": [],
   "source": [
    "# Function to clean data\n",
    "def cleanData(data):\n",
    "    data.fresh.dropna()\n",
    "    data.quote.dropna()\n",
    "    data = data[(data['quote']!= \" \")]\n",
    "    data = data.drop_duplicates()"
   ]
  },
  {
   "cell_type": "markdown",
   "metadata": {},
   "source": [
    "# Part 3: Naive Bayes"
   ]
  },
  {
   "cell_type": "code",
   "execution_count": 7,
   "metadata": {},
   "outputs": [],
   "source": [
    "# Bag of Words Implementation\n",
    "from sklearn.feature_extraction.text import CountVectorizer\n",
    "vectorizer = CountVectorizer(min_df = 0, binary = True)\n",
    "words = vectorizer.fit_transform(working.quote.values)\n",
    "words = words.toarray()"
   ]
  },
  {
   "cell_type": "code",
   "execution_count": 8,
   "metadata": {},
   "outputs": [],
   "source": [
    "# Train/Test split\n",
    "x_train, x_test, y_train, y_test, train_quotes, test_quotes = train_test_split(words, working.fresh.values, \n",
    "                                                                               working.quote.values, \n",
    "                                                                               train_size = 0.80, test_size=0.20, \n",
    "                                                                               random_state = 42)\n",
    "\n"
   ]
  },
  {
   "cell_type": "code",
   "execution_count": 9,
   "metadata": {},
   "outputs": [
    {
     "name": "stdout",
     "output_type": "stream",
     "text": [
      "Fresh Rating Probabilities: -0.4765818330039113\n",
      "Rotten Rating Probabilities: -0.9751875981083782\n"
     ]
    }
   ],
   "source": [
    "# Unconditional probabilities\n",
    "fresh_prob = np.log(np.mean(y_train=='fresh'))\n",
    "rotten_prob = np.log(np.mean(y_train=='rotten'))\n",
    "\n",
    "print(\"Fresh Rating Probabilities:\", fresh_prob)\n",
    "print(\"Rotten Rating Probabilities:\", rotten_prob)"
   ]
  },
  {
   "cell_type": "code",
   "execution_count": 98,
   "metadata": {},
   "outputs": [
    {
     "name": "stderr",
     "output_type": "stream",
     "text": [
      "/anaconda3/lib/python3.6/site-packages/ipykernel_launcher.py:5: RuntimeWarning: divide by zero encountered in log\n",
      "  \"\"\"\n",
      "/anaconda3/lib/python3.6/site-packages/ipykernel_launcher.py:6: RuntimeWarning: divide by zero encountered in log\n",
      "  \n"
     ]
    }
   ],
   "source": [
    "# Conditional probabilities\n",
    "x_fresh = x_train[y_train == 'fresh']\n",
    "x_rotten = x_train[y_train == 'rotten']\n",
    "\n",
    "x_fresh_probs = np.log(x_fresh.mean(axis=0))\n",
    "x_rotten_probs = np.log(x_rotten.mean(axis=0))\n",
    "\n",
    "# Replace infinty values with arbitrary values\n",
    "from numpy import inf\n",
    "x_fresh_probs_inf = np.where(x_fresh_probs== -inf)\n",
    "x_rotten_probs_inf = np.where(x_rotten_probs== -inf)\n",
    "\n",
    "x_fresh_probs[x_fresh_probs_inf] = -10000\n",
    "x_rotten_probs[x_rotten_probs_inf] = -10000\n",
    "\n"
   ]
  },
  {
   "cell_type": "code",
   "execution_count": 11,
   "metadata": {},
   "outputs": [
    {
     "name": "stdout",
     "output_type": "stream",
     "text": [
      "The accuracy for Fresh rating is: 0.705718270571827\n",
      "[[ 430  380]\n",
      " [ 253 1088]]\n"
     ]
    }
   ],
   "source": [
    "# Compute log likelihood of classification\n",
    "log_likelihood_fresh = fresh_prob + np.apply_along_axis(sum, 1, x_fresh_probs * x_test)\n",
    "log_likelihood_rotten = rotten_prob + np.apply_along_axis(sum, 1, x_rotten_probs * x_test) \n",
    "\n",
    "# Accuracy\n",
    "preds = log_likelihood_fresh > log_likelihood_rotten\n",
    "final_outcome = y_test == \"fresh\"\n",
    "print(\"The accuracy for Fresh rating is:\", np.mean(preds == (y_test == 'fresh')))\n",
    "\n",
    "# Confusion Matrix\n",
    "cm = confusion_matrix(final_outcome, preds)\n",
    "print(cm)\n",
    "\n"
   ]
  },
  {
   "cell_type": "markdown",
   "metadata": {},
   "source": [
    "# Part 4: Interpretation"
   ]
  },
  {
   "cell_type": "code",
   "execution_count": 12,
   "metadata": {},
   "outputs": [
    {
     "name": "stdout",
     "output_type": "stream",
     "text": [
      "Words that are Fresh: delight        9994.784128\n",
      "masterpiece       2.614910\n",
      "superb            2.592437\n",
      "witty             2.497127\n",
      "funniest          2.140452\n",
      "complex           2.104084\n",
      "today             2.104084\n",
      "thanks            2.066344\n",
      "impact            2.066344\n",
      "touching          2.027123\n",
      "dtype: float64\n",
      "Words that are Rotten: unfortunately   -3.899803\n",
      "dull            -2.323155\n",
      "empty           -2.108044\n",
      "fails           -1.735368\n",
      "problem         -1.715001\n",
      "lacks           -1.630008\n",
      "wrong           -1.597218\n",
      "worst           -1.566446\n",
      "flat            -1.563317\n",
      "flick           -1.479435\n",
      "dtype: float64\n"
     ]
    }
   ],
   "source": [
    "# Select 30 most frequent words and classifications\n",
    "num = words.sum(axis=0)\n",
    "freq_words = np.array(vectorizer.get_feature_names())\n",
    "freq_words = freq_words[num > 30]\n",
    "difference = x_fresh_probs - x_rotten_probs\n",
    "goodness = difference[num > 30]\n",
    "best_words = pd.Series(goodness, index=freq_words)\n",
    "\n",
    "fresh_words = best_words.sort_values(ascending = False)\n",
    "rotten_words = best_words.sort_values(ascending = True)\n",
    "\n",
    "print(\"Words that are Fresh:\", fresh_words.head(10))\n",
    "print(\"Words that are Rotten:\", rotten_words.head(10))"
   ]
  },
  {
   "cell_type": "markdown",
   "metadata": {},
   "source": [
    "Based on the 30 most frequent words found in my Bag of Words, the word \"delight\" seems to have the highest weight for a \"Fresh\" rating. For a \"Rotten\" rating, the word \"unfortunately\" seems to have the highest weight. These two words were found to be frequent in the BOW and had a heavy influence if the rating would be Fresh and Rotten. Based on how the probabilities have been set up, if it is greater than 0, it weighs heavily as a \"Fresh\" rating (and if it is less than 0, it is classified as rotten). "
   ]
  },
  {
   "cell_type": "code",
   "execution_count": 13,
   "metadata": {},
   "outputs": [
    {
     "name": "stdout",
     "output_type": "stream",
     "text": [
      "[\"Despite the presence of all these action-flick cliches, In the Line of Fire works. Sure, it's no more than a formula movie, but it's an effective formula movie.\"\n",
      " \"It's acted out in the secondary emotional register of the glass menagerie: whimsical, delicate, idiosyncratic, barmy.\"\n",
      " 'There are a number of small, unexpectedly funny moments in A Christmas Story, but you have to possess the stamina of a pearl diver to find them.'\n",
      " \"As Carrey's celebrated rubber does its patented act, the flick turns into a gyrational marathon -- mildly funny but seriously exhausting.\"\n",
      " \"First he made Ed Wood, a tribute to the man fondly recalled as the worst movie director of all time. Now Tim Burton seems to have made a tribute to Wood's work.\"]\n"
     ]
    }
   ],
   "source": [
    "# Find misclassified quotes in reviews\n",
    "misclassified = (preds!=final_outcome)\n",
    "quotes = test_quotes[misclassified]\n",
    "print(quotes[:5])   "
   ]
  },
  {
   "cell_type": "markdown",
   "metadata": {},
   "source": [
    "These quotes may have been misclassified due to the fact that the data contains single quotes from extracted from the full ones. It is difficult to decipher the ratings based on a few sentences since we do not have the bigger picture. In addition to this, there could be an equal number of \"fresh\" and \"rotten\" words (or a very slim difference between the two) that could confuse the classifier. Based on this, it is not uncommon to see some quotes that have been misclassified."
   ]
  },
  {
   "cell_type": "markdown",
   "metadata": {},
   "source": [
    "# Part 5: Naive Bayes with Smoothing"
   ]
  },
  {
   "cell_type": "code",
   "execution_count": 33,
   "metadata": {},
   "outputs": [],
   "source": [
    "# NB model implementation\n",
    "def fitNB(train_quotes, train_outcomes, alpha):\n",
    "    fresh_prob = np.log((np.sum(train_outcomes=='fresh') + alpha) / (len(train_outcomes)+alpha))\n",
    "    rotten_prob = np.log((np.sum(train_outcomes=='rotten') + alpha) / (len(train_outcomes)+alpha))\n",
    "    \n",
    "    x_fresh = train_quotes[train_outcomes == 'fresh']\n",
    "    x_rotten = train_quotes[train_outcomes == 'rotten']\n",
    "\n",
    "    x_fresh_probs = np.log((x_fresh.sum(axis=0)+ alpha) / (len(x_fresh) + alpha))\n",
    "    x_rotten_probs = np.log((x_rotten.sum(axis=0)+ alpha) / (len(x_rotten) + alpha))\n",
    "\n",
    "    from numpy import inf\n",
    "    x_fresh_probs_inf = np.where(x_fresh_probs== -inf)\n",
    "    x_rotten_probs_inf = np.where(x_rotten_probs== -inf)\n",
    "\n",
    "    x_fresh_probs[x_fresh_probs_inf] = -10000\n",
    "    x_rotten_probs[x_rotten_probs_inf] = -10000\n",
    "    \n",
    "    return (fresh_prob, rotten_prob, x_fresh_probs, x_rotten_probs)\n",
    "\n",
    "# NB prediction implementation\n",
    "def predict(fresh_prob, rotten_prob, x_fresh_probs, x_rotten_probs, x_test, y_test):\n",
    "    log_likelihood_fresh = fresh_prob + np.apply_along_axis(sum, 1, x_fresh_probs * x_test)\n",
    "    log_likelihood_rotten = rotten_prob + np.apply_along_axis(sum, 1, x_rotten_probs * x_test) \n",
    "    preds = log_likelihood_fresh > log_likelihood_rotten\n",
    "    final_outcome = y_test == \"fresh\"\n",
    "    accuracy = np.mean(preds == (y_test == 'fresh'))\n",
    "    return accuracy\n"
   ]
  },
  {
   "cell_type": "code",
   "execution_count": 15,
   "metadata": {},
   "outputs": [
    {
     "name": "stderr",
     "output_type": "stream",
     "text": [
      "/anaconda3/lib/python3.6/site-packages/ipykernel_launcher.py:8: RuntimeWarning: divide by zero encountered in log\n",
      "  \n",
      "/anaconda3/lib/python3.6/site-packages/ipykernel_launcher.py:9: RuntimeWarning: divide by zero encountered in log\n",
      "  if __name__ == '__main__':\n"
     ]
    },
    {
     "name": "stdout",
     "output_type": "stream",
     "text": [
      "alpha = 0: 0.705718270571827\n",
      "alpha = 0.5: 0.7373314737331473\n",
      "alpha = 1: 0.7308228730822873\n"
     ]
    }
   ],
   "source": [
    "# Test different alpha values for NB model\n",
    "alpha = 0\n",
    "A, B, C, D = fitNB(x_train, y_train, alpha)\n",
    "print(\"alpha = 0:\", predict(A, B, C, D, x_test, y_test))\n",
    "\n",
    "\n",
    "alpha = 0.5\n",
    "A, B, C, D = fitNB(x_train, y_train, alpha)\n",
    "print(\"alpha = 0.5:\", predict(A, B, C, D, x_test, y_test))\n",
    "\n",
    "alpha = 1\n",
    "A, B, C, D = fitNB(x_train, y_train, alpha)\n",
    "print(\"alpha = 1:\", predict(A, B, C, D, x_test, y_test))\n",
    "\n",
    "\n"
   ]
  },
  {
   "cell_type": "markdown",
   "metadata": {},
   "source": [
    "# Part 6: Cross-Validation"
   ]
  },
  {
   "cell_type": "code",
   "execution_count": 34,
   "metadata": {},
   "outputs": [],
   "source": [
    "# Cross validation function\n",
    "def cv_fold(number, k, alpha):\n",
    "        k = 5\n",
    "        indices = np.arange(number)\n",
    "        np.random.shuffle(indices)\n",
    "        chunks = np.split(indices, k)\n",
    "        all_indices = set(range(number))\n",
    "        acc = []\n",
    "        for fold in chunks:\n",
    "            test_quotes = words[fold]\n",
    "            test_outcomes = working.fresh.values[fold]\n",
    "            c = set(fold)\n",
    "            train_set = all_indices.difference(c)\n",
    "            train_array = np.array(list(train_set))\n",
    "\n",
    "            train_quotes = words[train_array]\n",
    "            train_outcomes = working.fresh.values[train_array]\n",
    "\n",
    "            A, B, C, D = fitNB(train_quotes, train_outcomes, 0)\n",
    "            accuracies = (predict(A, B, C, D, test_quotes, test_outcomes))\n",
    "            acc.append(accuracies)\n",
    "        return np.mean(acc)  "
   ]
  },
  {
   "cell_type": "code",
   "execution_count": 35,
   "metadata": {},
   "outputs": [
    {
     "name": "stderr",
     "output_type": "stream",
     "text": [
      "/anaconda3/lib/python3.6/site-packages/ipykernel_launcher.py:8: RuntimeWarning: divide by zero encountered in log\n",
      "  \n",
      "/anaconda3/lib/python3.6/site-packages/ipykernel_launcher.py:9: RuntimeWarning: divide by zero encountered in log\n",
      "  if __name__ == '__main__':\n"
     ]
    }
   ],
   "source": [
    "# Loop through different alpha values\n",
    "alphas = np.linspace(0, 2, 10)\n",
    "mean_accuracies = []\n",
    "for i in alphas:\n",
    "    mean_acc = cv_fold(1000, 5, i)\n",
    "    mean_accuracies.append(mean_acc)"
   ]
  },
  {
   "cell_type": "code",
   "execution_count": 36,
   "metadata": {},
   "outputs": [
    {
     "data": {
      "text/plain": [
       "Text(0,0.5,'accuracies')"
      ]
     },
     "execution_count": 36,
     "metadata": {},
     "output_type": "execute_result"
    },
    {
     "data": {
      "image/png": "[encoded data removed]",
      "text/plain": [
       "<Figure size 432x288 with 1 Axes>"
      ]
     },
     "metadata": {},
     "output_type": "display_data"
    }
   ],
   "source": [
    "# Plot graph for best alpha value\n",
    "import matplotlib.pyplot as plt\n",
    "plt.plot(alphas, mean_accuracies)\n",
    "plt.title(\"Different Alphas vs Mean Accuracies\")\n",
    "plt.xlabel(\"alphas\")\n",
    "plt.ylabel(\"accuracies\")"
   ]
  },
  {
   "cell_type": "markdown",
   "metadata": {},
   "source": [
    "Based on the plot, the most optimal alpha value for the highest accuracy is ~0.3. (I was unable to add more than 1000 samples since it slowed down the computer). "
   ]
  },
  {
   "cell_type": "markdown",
   "metadata": {},
   "source": [
    "# Part 7: Final Model Performance"
   ]
  },
  {
   "cell_type": "code",
   "execution_count": 92,
   "metadata": {},
   "outputs": [],
   "source": [
    "# NB Model on Working dataset\n",
    "features = words\n",
    "outcome = working.fresh.values\n",
    "\n",
    "A, B, C, D = fitNB(features, outcome, 0.3)"
   ]
  },
  {
   "cell_type": "code",
   "execution_count": 93,
   "metadata": {},
   "outputs": [],
   "source": [
    "# Load in and clean Testing dataset\n",
    "testing = pd.read_csv('testing.csv')\n",
    "cleanData(testing)"
   ]
  },
  {
   "cell_type": "code",
   "execution_count": 94,
   "metadata": {},
   "outputs": [],
   "source": [
    "# Bag of Words on Testing data\n",
    "X = vectorizer.fit(working.quote.values)\n",
    "X = vectorizer.transform(testing.quote.values)\n",
    "X = X.toarray()\n"
   ]
  },
  {
   "cell_type": "code",
   "execution_count": 96,
   "metadata": {},
   "outputs": [
    {
     "name": "stdout",
     "output_type": "stream",
     "text": [
      "Testing Data Accuracy: 0.7764968389735961\n"
     ]
    }
   ],
   "source": [
    "# Bag of Words for Testing data\n",
    "test_features = X\n",
    "test_outcome = testing.fresh.values\n",
    "print(\"Testing Data Accuracy:\", predict(A, B, C, D, test_features, test_outcome))"
   ]
  },
  {
   "cell_type": "markdown",
   "metadata": {},
   "source": [
    "Compared to kNN and TF-IDF from PS-04, kNN and TF-IDF had a lower accuracy score than Naive Bayes. Naive Bayes had close to a 75% accuracy for predicting a review having a Fresh or Rotten status. kNN had an accuracy score of about ~55% whereas TF-IDF had scores around ~65%. From all three algorithms, it was clear that Naive Bayes had performed the best."
   ]
  }
 ],
 "metadata": {
  "kernelspec": {
   "display_name": "Python 3",
   "language": "python",
   "name": "python3"
  },
  "language_info": {
   "codemirror_mode": {
    "name": "ipython",
    "version": 3
   },
   "file_extension": ".py",
   "mimetype": "text/x-python",
   "name": "python",
   "nbconvert_exporter": "python",
   "pygments_lexer": "ipython3",
   "version": "3.6.5"
  }
 },
 "nbformat": 4,
 "nbformat_minor": 2
}
