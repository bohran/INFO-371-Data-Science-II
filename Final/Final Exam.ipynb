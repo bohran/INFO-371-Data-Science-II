{
 "cells": [
  {
   "cell_type": "markdown",
   "metadata": {},
   "source": [
    "# Part 1: Regression"
   ]
  },
  {
   "cell_type": "code",
   "execution_count": 53,
   "metadata": {},
   "outputs": [],
   "source": [
    "import numpy as np\n",
    "import pandas as pd\n",
    "from sklearn.model_selection import train_test_split\n",
    "from sklearn.model_selection import KFold\n",
    "from sklearn.model_selection import cross_val_score\n",
    "from sklearn.model_selection import GridSearchCV"
   ]
  },
  {
   "cell_type": "code",
   "execution_count": 124,
   "metadata": {},
   "outputs": [
    {
     "data": {
      "text/html": [
       "<div>\n",
       "<style scoped>\n",
       "    .dataframe tbody tr th:only-of-type {\n",
       "        vertical-align: middle;\n",
       "    }\n",
       "\n",
       "    .dataframe tbody tr th {\n",
       "        vertical-align: top;\n",
       "    }\n",
       "\n",
       "    .dataframe thead th {\n",
       "        text-align: right;\n",
       "    }\n",
       "</style>\n",
       "<table border=\"1\" class=\"dataframe\">\n",
       "  <thead>\n",
       "    <tr style=\"text-align: right;\">\n",
       "      <th></th>\n",
       "      <th>CRIM</th>\n",
       "      <th>ZN</th>\n",
       "      <th>INDUS</th>\n",
       "      <th>CHAS</th>\n",
       "      <th>NOX</th>\n",
       "      <th>RM</th>\n",
       "      <th>AGE</th>\n",
       "      <th>DIS</th>\n",
       "      <th>RAD</th>\n",
       "      <th>TAX</th>\n",
       "      <th>PTRATIO</th>\n",
       "      <th>B</th>\n",
       "      <th>LSTAT</th>\n",
       "      <th>MEDV</th>\n",
       "    </tr>\n",
       "  </thead>\n",
       "  <tbody>\n",
       "    <tr>\n",
       "      <th>0</th>\n",
       "      <td>0.00632</td>\n",
       "      <td>18.0</td>\n",
       "      <td>2.31</td>\n",
       "      <td>0.0</td>\n",
       "      <td>0.538</td>\n",
       "      <td>6.575</td>\n",
       "      <td>65.2</td>\n",
       "      <td>4.0900</td>\n",
       "      <td>1.0</td>\n",
       "      <td>296.0</td>\n",
       "      <td>15.3</td>\n",
       "      <td>396.90</td>\n",
       "      <td>4.98</td>\n",
       "      <td>24.0</td>\n",
       "    </tr>\n",
       "    <tr>\n",
       "      <th>1</th>\n",
       "      <td>0.02731</td>\n",
       "      <td>0.0</td>\n",
       "      <td>7.07</td>\n",
       "      <td>0.0</td>\n",
       "      <td>0.469</td>\n",
       "      <td>6.421</td>\n",
       "      <td>78.9</td>\n",
       "      <td>4.9671</td>\n",
       "      <td>2.0</td>\n",
       "      <td>242.0</td>\n",
       "      <td>17.8</td>\n",
       "      <td>396.90</td>\n",
       "      <td>9.14</td>\n",
       "      <td>21.6</td>\n",
       "    </tr>\n",
       "    <tr>\n",
       "      <th>2</th>\n",
       "      <td>0.02729</td>\n",
       "      <td>0.0</td>\n",
       "      <td>7.07</td>\n",
       "      <td>0.0</td>\n",
       "      <td>0.469</td>\n",
       "      <td>7.185</td>\n",
       "      <td>61.1</td>\n",
       "      <td>4.9671</td>\n",
       "      <td>2.0</td>\n",
       "      <td>242.0</td>\n",
       "      <td>17.8</td>\n",
       "      <td>392.83</td>\n",
       "      <td>4.03</td>\n",
       "      <td>34.7</td>\n",
       "    </tr>\n",
       "    <tr>\n",
       "      <th>3</th>\n",
       "      <td>0.03237</td>\n",
       "      <td>0.0</td>\n",
       "      <td>2.18</td>\n",
       "      <td>0.0</td>\n",
       "      <td>0.458</td>\n",
       "      <td>6.998</td>\n",
       "      <td>45.8</td>\n",
       "      <td>6.0622</td>\n",
       "      <td>3.0</td>\n",
       "      <td>222.0</td>\n",
       "      <td>18.7</td>\n",
       "      <td>394.63</td>\n",
       "      <td>2.94</td>\n",
       "      <td>33.4</td>\n",
       "    </tr>\n",
       "    <tr>\n",
       "      <th>4</th>\n",
       "      <td>0.06905</td>\n",
       "      <td>0.0</td>\n",
       "      <td>2.18</td>\n",
       "      <td>0.0</td>\n",
       "      <td>0.458</td>\n",
       "      <td>7.147</td>\n",
       "      <td>54.2</td>\n",
       "      <td>6.0622</td>\n",
       "      <td>3.0</td>\n",
       "      <td>222.0</td>\n",
       "      <td>18.7</td>\n",
       "      <td>396.90</td>\n",
       "      <td>5.33</td>\n",
       "      <td>36.2</td>\n",
       "    </tr>\n",
       "  </tbody>\n",
       "</table>\n",
       "</div>"
      ],
      "text/plain": [
       "      CRIM    ZN  INDUS  CHAS    NOX     RM   AGE     DIS  RAD    TAX  \\\n",
       "0  0.00632  18.0   2.31   0.0  0.538  6.575  65.2  4.0900  1.0  296.0   \n",
       "1  0.02731   0.0   7.07   0.0  0.469  6.421  78.9  4.9671  2.0  242.0   \n",
       "2  0.02729   0.0   7.07   0.0  0.469  7.185  61.1  4.9671  2.0  242.0   \n",
       "3  0.03237   0.0   2.18   0.0  0.458  6.998  45.8  6.0622  3.0  222.0   \n",
       "4  0.06905   0.0   2.18   0.0  0.458  7.147  54.2  6.0622  3.0  222.0   \n",
       "\n",
       "   PTRATIO       B  LSTAT  MEDV  \n",
       "0     15.3  396.90   4.98  24.0  \n",
       "1     17.8  396.90   9.14  21.6  \n",
       "2     17.8  392.83   4.03  34.7  \n",
       "3     18.7  394.63   2.94  33.4  \n",
       "4     18.7  396.90   5.33  36.2  "
      ]
     },
     "execution_count": 124,
     "metadata": {},
     "output_type": "execute_result"
    }
   ],
   "source": [
    "# Load in Boston dataset\n",
    "from sklearn.datasets import load_boston\n",
    "bdata = load_boston()\n",
    "X = bdata.data\n",
    "y = bdata.target\n",
    "boston = pd.DataFrame(data = bdata.data)\n",
    "boston.columns = bdata.feature_names[:]\n",
    "boston['MEDV'] = bdata.target\n",
    "boston.head()"
   ]
  },
  {
   "cell_type": "markdown",
   "metadata": {},
   "source": [
    "## Relevant Methods to Predict MEDV: \n",
    "\n",
    "**kNN Regressor**\n",
    "\n",
    "Strengths: It does not require any assumptions and it is easy to implement. It also doesn't straight up build a model since it uses historical data to \"teach\" new data entries. \n",
    "\n",
    "Weaknesses: This algorithm is slow and requires a lot of memory. It is also sensitive to outliers in the data since that requires a distance criteria to choose from. \n",
    "\n",
    "Important Hyperparameters: k number of neighbors \n",
    "\n",
    "**Decision Trees**\n",
    "\n",
    "Strengths: They are able to fit on and learn non-linear relationships and are fairly robust to outliers. They are intuitive to understand and explain as well and also don't requite a lot of data preparation before using the model. \n",
    "\n",
    "Weaknesses: They tend to overfit on training data if the decision tree has not been properly pruned which can cause them to become poor predictors of the data. \n",
    "\n",
    "Important Hyperparameters:\n",
    "* max_features - represents the number of features to consider \n",
    "* max_depth - represents how deep the tree can be\n",
    "* min_samples_leaf - represents the minimum number of samples required to be at leaf node\n",
    "\n",
    "**Naive Bayes**\n",
    "\n",
    "Strengths: This algorithm is easy to use and implement. It is also easily scalable with the dataset so there are no limitations on size when it comes to using Naive Bayes.\n",
    "\n",
    "Weaknesses: It makes strong assumptions on the shape of the data. The data also requires a binary approach in that probabilities should either be 0 or 1 which can not be as flexible with the data.\n",
    "\n",
    "Important Hyperparameter: Alpha \n",
    "\n",
    "**Regression (Linear)**\n",
    "\n",
    "Strengths: This is the easiest method to implement and understand. It works for most datasets and there is usually a relationship between two variables within the dataset, whether it be a positive or negative relationship.\n",
    "\n",
    "Weaknesses: It truly only models relationships that are between dependent and independent variables. They are also extremely sensitive to outliers so it is not always the best choice as a predictor.\n",
    "\n",
    "Important Hyperparameters: None really required\n",
    "\n",
    "\n",
    "\n",
    "Citations: \n",
    "https://elitedatascience.com/machine-learning-algorithms\n",
    "https://medium.com/@mohtedibf/indepth-parameter-tuning-for-decision-tree-6753118a03c3\n",
    "https://www.quora.com/What-are-the-advantages-and-disadvantages-of-linear-regression"
   ]
  },
  {
   "cell_type": "markdown",
   "metadata": {},
   "source": [
    "## Predicting MEDV: k-NN, Decision Trees & OLS\n",
    "#### The cross-validation code used for k-NN and Decision Tree algorithms were implemented by prior coursework in Professor Freeman's 370 lecture."
   ]
  },
  {
   "cell_type": "markdown",
   "metadata": {},
   "source": [
    "### METHOD 1: k-NN Regressor"
   ]
  },
  {
   "cell_type": "code",
   "execution_count": 57,
   "metadata": {},
   "outputs": [],
   "source": [
    "from sklearn.model_selection import train_test_split \n",
    "train_features, test_feature, train_outcome, test_outcome = train_test_split(X, y, \n",
    "                                                                             test_size = 0.3,\n",
    "                                                                             random_state = 11)"
   ]
  },
  {
   "cell_type": "code",
   "execution_count": 76,
   "metadata": {},
   "outputs": [
    {
     "name": "stdout",
     "output_type": "stream",
     "text": [
      "{'n_neighbors': 9, 'weights': 'distance'}\n"
     ]
    }
   ],
   "source": [
    "# Param grid to select best number of neighbors\n",
    "from sklearn.neighbors import KNeighborsRegressor\n",
    "params = {\"n_neighbors\":range(1,50), \"weights\":[\"uniform\", \"distance\"]}\n",
    "grid_search = GridSearchCV(KNeighborsRegressor(), param_grid = params, cv=folds, return_train_score=True)\n",
    "grid_search.fit(train_features, train_outcome)\n",
    "score = grid_search.score(test_feature, test_outcome)\n",
    "print(grid_search.cv_results_['params'][grid_search.best_index_])"
   ]
  },
  {
   "cell_type": "code",
   "execution_count": 99,
   "metadata": {},
   "outputs": [
    {
     "name": "stdout",
     "output_type": "stream",
     "text": [
      "0.4264709279694928\n"
     ]
    }
   ],
   "source": [
    "# Use param grid best score in knn regressor algorithm\n",
    "knn_preds = knn_reg.fit(train_features, train_outcome).predict(test_feature)\n",
    "knn_reg = KNeighborsRegressor(n_neighbors=9)\n",
    "knn_fit = knn_reg.fit(train_features, train_outcome)\n",
    "folds = KFold(n_splits = 10, shuffle = True)\n",
    "print(np.mean(cross_val_score(knn_reg, train_features, train_outcome, cv = folds)))"
   ]
  },
  {
   "cell_type": "markdown",
   "metadata": {},
   "source": [
    "### METHOD 2: Decision Tree Regressor"
   ]
  },
  {
   "cell_type": "code",
   "execution_count": 94,
   "metadata": {},
   "outputs": [
    {
     "name": "stdout",
     "output_type": "stream",
     "text": [
      "{'max_features': 4}\n"
     ]
    }
   ],
   "source": [
    "# Param grid to select best maximum features\n",
    "from sklearn.tree import DecisionTreeRegressor\n",
    "params = {\"max_features\":range(1,10)}\n",
    "grid_search = GridSearchCV(DecisionTreeRegressor(), param_grid = params, cv=folds, return_train_score=True)\n",
    "grid_search.fit(train_features, train_outcome)\n",
    "score = grid_search.score(test_feature, test_outcome)\n",
    "print(grid_search.cv_results_['params'][grid_search.best_index_])\n"
   ]
  },
  {
   "cell_type": "code",
   "execution_count": 110,
   "metadata": {},
   "outputs": [
    {
     "name": "stdout",
     "output_type": "stream",
     "text": [
      "0.582180759932143\n"
     ]
    }
   ],
   "source": [
    "# Use param grid best score in decision tree regressor algorithm\n",
    "tree_reg = DecisionTreeRegressor(max_features=4)\n",
    "tree_fit = tree_reg.fit(train_features, train_outcome)\n",
    "tree_preds = tree_fit.predict(test_feature)\n",
    "print(np.mean(cross_val_score(tree_reg, train_features, train_outcome)))"
   ]
  },
  {
   "cell_type": "markdown",
   "metadata": {},
   "source": [
    "### METHOD 3: OLS (Linear Regression)"
   ]
  },
  {
   "cell_type": "code",
   "execution_count": 55,
   "metadata": {},
   "outputs": [
    {
     "data": {
      "text/html": [
       "<table class=\"simpletable\">\n",
       "<caption>OLS Regression Results</caption>\n",
       "<tr>\n",
       "  <th>Dep. Variable:</th>          <td>MEDV</td>       <th>  R-squared:         </th> <td>   0.484</td>\n",
       "</tr>\n",
       "<tr>\n",
       "  <th>Model:</th>                   <td>OLS</td>       <th>  Adj. R-squared:    </th> <td>   0.483</td>\n",
       "</tr>\n",
       "<tr>\n",
       "  <th>Method:</th>             <td>Least Squares</td>  <th>  F-statistic:       </th> <td>   471.8</td>\n",
       "</tr>\n",
       "<tr>\n",
       "  <th>Date:</th>             <td>Sun, 17 Mar 2019</td> <th>  Prob (F-statistic):</th> <td>2.49e-74</td>\n",
       "</tr>\n",
       "<tr>\n",
       "  <th>Time:</th>                 <td>17:59:11</td>     <th>  Log-Likelihood:    </th> <td> -1673.1</td>\n",
       "</tr>\n",
       "<tr>\n",
       "  <th>No. Observations:</th>      <td>   506</td>      <th>  AIC:               </th> <td>   3350.</td>\n",
       "</tr>\n",
       "<tr>\n",
       "  <th>Df Residuals:</th>          <td>   504</td>      <th>  BIC:               </th> <td>   3359.</td>\n",
       "</tr>\n",
       "<tr>\n",
       "  <th>Df Model:</th>              <td>     1</td>      <th>                     </th>     <td> </td>   \n",
       "</tr>\n",
       "<tr>\n",
       "  <th>Covariance Type:</th>      <td>nonrobust</td>    <th>                     </th>     <td> </td>   \n",
       "</tr>\n",
       "</table>\n",
       "<table class=\"simpletable\">\n",
       "<tr>\n",
       "      <td></td>         <th>coef</th>     <th>std err</th>      <th>t</th>      <th>P>|t|</th>  <th>[0.025</th>    <th>0.975]</th>  \n",
       "</tr>\n",
       "<tr>\n",
       "  <th>Intercept</th> <td>  -34.6706</td> <td>    2.650</td> <td>  -13.084</td> <td> 0.000</td> <td>  -39.877</td> <td>  -29.465</td>\n",
       "</tr>\n",
       "<tr>\n",
       "  <th>RM</th>        <td>    9.1021</td> <td>    0.419</td> <td>   21.722</td> <td> 0.000</td> <td>    8.279</td> <td>    9.925</td>\n",
       "</tr>\n",
       "</table>\n",
       "<table class=\"simpletable\">\n",
       "<tr>\n",
       "  <th>Omnibus:</th>       <td>102.585</td> <th>  Durbin-Watson:     </th> <td>   0.684</td> \n",
       "</tr>\n",
       "<tr>\n",
       "  <th>Prob(Omnibus):</th> <td> 0.000</td>  <th>  Jarque-Bera (JB):  </th> <td> 612.449</td> \n",
       "</tr>\n",
       "<tr>\n",
       "  <th>Skew:</th>          <td> 0.726</td>  <th>  Prob(JB):          </th> <td>1.02e-133</td>\n",
       "</tr>\n",
       "<tr>\n",
       "  <th>Kurtosis:</th>      <td> 8.190</td>  <th>  Cond. No.          </th> <td>    58.4</td> \n",
       "</tr>\n",
       "</table><br/><br/>Warnings:<br/>[1] Standard Errors assume that the covariance matrix of the errors is correctly specified."
      ],
      "text/plain": [
       "<class 'statsmodels.iolib.summary.Summary'>\n",
       "\"\"\"\n",
       "                            OLS Regression Results                            \n",
       "==============================================================================\n",
       "Dep. Variable:                   MEDV   R-squared:                       0.484\n",
       "Model:                            OLS   Adj. R-squared:                  0.483\n",
       "Method:                 Least Squares   F-statistic:                     471.8\n",
       "Date:                Sun, 17 Mar 2019   Prob (F-statistic):           2.49e-74\n",
       "Time:                        17:59:11   Log-Likelihood:                -1673.1\n",
       "No. Observations:                 506   AIC:                             3350.\n",
       "Df Residuals:                     504   BIC:                             3359.\n",
       "Df Model:                           1                                         \n",
       "Covariance Type:            nonrobust                                         \n",
       "==============================================================================\n",
       "                 coef    std err          t      P>|t|      [0.025      0.975]\n",
       "------------------------------------------------------------------------------\n",
       "Intercept    -34.6706      2.650    -13.084      0.000     -39.877     -29.465\n",
       "RM             9.1021      0.419     21.722      0.000       8.279       9.925\n",
       "==============================================================================\n",
       "Omnibus:                      102.585   Durbin-Watson:                   0.684\n",
       "Prob(Omnibus):                  0.000   Jarque-Bera (JB):              612.449\n",
       "Skew:                           0.726   Prob(JB):                    1.02e-133\n",
       "Kurtosis:                       8.190   Cond. No.                         58.4\n",
       "==============================================================================\n",
       "\n",
       "Warnings:\n",
       "[1] Standard Errors assume that the covariance matrix of the errors is correctly specified.\n",
       "\"\"\""
      ]
     },
     "execution_count": 55,
     "metadata": {},
     "output_type": "execute_result"
    }
   ],
   "source": [
    "# Linear Regression: sourced from Lab 4 \n",
    "import statsmodels.formula.api as smf\n",
    "lm = smf.ols(formula = 'MEDV ~ RM', \n",
    "             data=boston).fit()\n",
    "lm.summary()"
   ]
  },
  {
   "cell_type": "code",
   "execution_count": 116,
   "metadata": {
    "scrolled": true
   },
   "outputs": [
    {
     "data": {
      "text/plain": [
       "<matplotlib.axes._subplots.AxesSubplot at 0x102e5e550>"
      ]
     },
     "execution_count": 116,
     "metadata": {},
     "output_type": "execute_result"
    },
    {
     "data": {
      "image/png": "[encoded data removed]",
      "text/plain": [
       "<Figure size 720x576 with 2 Axes>"
      ]
     },
     "metadata": {},
     "output_type": "display_data"
    }
   ],
   "source": [
    "# Correlation matrix for features\n",
    "import matplotlib.pyplot as plt\n",
    "import seaborn as sns\n",
    "ax, fig = plt.subplots(figsize=(10,8))\n",
    "corr_matrix = boston.corr()\n",
    "sns.heatmap(data=corr_matrix, cmap=\"RdYlGn\", annot = True)"
   ]
  },
  {
   "cell_type": "markdown",
   "metadata": {},
   "source": [
    "R-squared for the relationship between MEDV and RM is 0.48. Linear regression does not require hyperparameters so the best way to cross-validate the relevant measure is by checking the correlation matrix to check correlation values and perform feature selection throught that."
   ]
  },
  {
   "cell_type": "markdown",
   "metadata": {},
   "source": [
    "## Method Summaries: "
   ]
  },
  {
   "cell_type": "code",
   "execution_count": 115,
   "metadata": {
    "scrolled": false
   },
   "outputs": [
    {
     "name": "stdout",
     "output_type": "stream",
     "text": [
      "k-NN Score: 0.44903852025810825\n",
      "Decision Tree Score: 0.5379833640329555\n",
      "OLS R2 Value: 0.483525455991334\n"
     ]
    }
   ],
   "source": [
    "print('k-NN Score:',np.mean(cross_val_score(knn_reg, train_features, train_outcome, cv = folds)))\n",
    "print('Decision Tree Score:',np.mean(cross_val_score(tree_reg, train_features, train_outcome)))\n",
    "print('OLS R2 Value:', lm.rsquared)"
   ]
  },
  {
   "cell_type": "markdown",
   "metadata": {},
   "source": [
    "Based on the method summary results, I found that the Decision Tree Regressor algorithm had the best score in predicting MEDV values. I believe this did better than the other two algorithms because it is able to perform on non-linear relationships and is not sensitive to outliers. kNN and OLS are both sensitive to outliers which may have skewed the scores and may not be an accurate representation."
   ]
  },
  {
   "cell_type": "markdown",
   "metadata": {},
   "source": [
    "# Part 2: Text Classification"
   ]
  },
  {
   "cell_type": "code",
   "execution_count": 117,
   "metadata": {},
   "outputs": [
    {
     "data": {
      "text/plain": [
       "(3999, 2)"
      ]
     },
     "execution_count": 117,
     "metadata": {},
     "output_type": "execute_result"
    }
   ],
   "source": [
    "# Load in text dataset\n",
    "data = pd.read_csv('20-newsgroups.csv')\n",
    "working, testing = train_test_split(data, test_size=0.80, random_state=42)\n",
    "testing.to_csv('testing.csv', index = False)\n",
    "del(testing)\n",
    "working.shape"
   ]
  },
  {
   "cell_type": "markdown",
   "metadata": {},
   "source": [
    ">I chose to work with 20% of the working data which has about 4,000 rows."
   ]
  },
  {
   "cell_type": "code",
   "execution_count": 118,
   "metadata": {},
   "outputs": [],
   "source": [
    "# Removing null values from dataset\n",
    "working = working.dropna()"
   ]
  },
  {
   "cell_type": "code",
   "execution_count": 13,
   "metadata": {},
   "outputs": [
    {
     "data": {
      "text/plain": [
       "(3987, 55656)"
      ]
     },
     "execution_count": 13,
     "metadata": {},
     "output_type": "execute_result"
    }
   ],
   "source": [
    "# Bag of Words \n",
    "from sklearn.feature_extraction.text import CountVectorizer\n",
    "vectorizer = CountVectorizer(min_df=0)\n",
    "vectorizer.fit(working.text.values)\n",
    "X = vectorizer.transform(working.text.values).toarray()\n",
    "X.shape"
   ]
  },
  {
   "cell_type": "code",
   "execution_count": 19,
   "metadata": {},
   "outputs": [
    {
     "name": "stdout",
     "output_type": "stream",
     "text": [
      "K: 1\n",
      "[0.34056886 0.31052632 0.31945496]\n",
      "K: 2\n",
      "[0.31362275 0.26992481 0.29371688]\n",
      "K: 3\n",
      "[0.29191617 0.25789474 0.2657078 ]\n",
      "K: 4\n",
      "[0.27919162 0.2443609  0.24905375]\n",
      "K: 5\n",
      "[0.25598802 0.23233083 0.23845572]\n",
      "K: 6\n",
      "[0.24176647 0.21879699 0.23542771]\n",
      "K: 7\n",
      "[0.23952096 0.20902256 0.23921272]\n",
      "K: 8\n",
      "[0.23802395 0.21203008 0.22710068]\n",
      "K: 9\n",
      "[0.23128743 0.21578947 0.22104466]\n"
     ]
    }
   ],
   "source": [
    "# k-NN algorithm for Bag of Words\n",
    "from sklearn.neighbors import NearestNeighbors\n",
    "from sklearn.neighbors import KNeighborsClassifier\n",
    "k_values = range(1, 10)\n",
    "for i in k_values:\n",
    "    neighbors = KNeighborsClassifier(n_neighbors = i, metric = 'cosine')\n",
    "    neighbors.fit(X, working.group.values)\n",
    "    CV_score = cross_val_score(neighbors, X, working.group.values, cv = 3)\n",
    "    print('K:', i)\n",
    "    print(CV_score)\n"
   ]
  },
  {
   "cell_type": "markdown",
   "metadata": {},
   "source": [
    "From the possible k values between 1-10, a value of 1 had the best cross validation score."
   ]
  },
  {
   "cell_type": "code",
   "execution_count": 23,
   "metadata": {},
   "outputs": [
    {
     "data": {
      "text/plain": [
       "(3987, 55656)"
      ]
     },
     "execution_count": 23,
     "metadata": {},
     "output_type": "execute_result"
    }
   ],
   "source": [
    "# TF-IDF vectorizer for Bag of Words\n",
    "from sklearn.feature_extraction.text import TfidfVectorizer\n",
    "vectorizer = TfidfVectorizer()\n",
    "tf_X = vectorizer.fit_transform(working.text.values)\n",
    "tf_X.shape"
   ]
  },
  {
   "cell_type": "code",
   "execution_count": 24,
   "metadata": {},
   "outputs": [
    {
     "name": "stdout",
     "output_type": "stream",
     "text": [
      "K: 1\n",
      "[0.60553892 0.57142857 0.5677517 ]\n",
      "K: 2\n",
      "[0.55763473 0.48721805 0.49810749]\n",
      "K: 3\n",
      "[0.55838323 0.49022556 0.49280848]\n",
      "K: 4\n",
      "[0.54865269 0.50225564 0.4988645 ]\n",
      "K: 5\n",
      "[0.53143713 0.48646617 0.48750946]\n",
      "K: 6\n",
      "[0.52320359 0.47593985 0.49053747]\n",
      "K: 7\n",
      "[0.52245509 0.46842105 0.48599546]\n",
      "K: 8\n",
      "[0.51796407 0.47067669 0.48978047]\n",
      "K: 9\n",
      "[0.51721557 0.46992481 0.48599546]\n"
     ]
    }
   ],
   "source": [
    "# TF-IDF algorithm for Bag of Words\n",
    "k_values = range(1, 10)\n",
    "for i in k_values:\n",
    "    neighbors = KNeighborsClassifier(n_neighbors = i, metric = 'cosine')\n",
    "    neighbors.fit(tf_X, working.group.values)\n",
    "    CV_score = cross_val_score(neighbors, tf_X, working.group.values, cv = 3)\n",
    "    print('K:', i)\n",
    "    print(CV_score)\n"
   ]
  },
  {
   "cell_type": "markdown",
   "metadata": {},
   "source": [
    "Based on the TF-IDF vectorizer, a k value of 1 outputs the highest cross-validation score of 0.61."
   ]
  },
  {
   "cell_type": "code",
   "execution_count": 26,
   "metadata": {},
   "outputs": [
    {
     "data": {
      "text/plain": [
       "MultinomialNB(alpha=1.0, class_prior=None, fit_prior=True)"
      ]
     },
     "execution_count": 26,
     "metadata": {},
     "output_type": "execute_result"
    }
   ],
   "source": [
    "# Naive Bayes implementation on Bag of Words\n",
    "from sklearn.naive_bayes import MultinomialNB\n",
    "clf = MultinomialNB()\n",
    "clf.fit(X, working.group.values)"
   ]
  },
  {
   "cell_type": "code",
   "execution_count": 30,
   "metadata": {},
   "outputs": [
    {
     "name": "stderr",
     "output_type": "stream",
     "text": [
      "/anaconda3/lib/python3.6/site-packages/sklearn/naive_bayes.py:472: UserWarning: alpha too small will result in numeric errors, setting alpha = 1.0e-10\n",
      "  'setting alpha = %.1e' % _ALPHA_MIN)\n",
      "/anaconda3/lib/python3.6/site-packages/sklearn/naive_bayes.py:472: UserWarning: alpha too small will result in numeric errors, setting alpha = 1.0e-10\n",
      "  'setting alpha = %.1e' % _ALPHA_MIN)\n",
      "/anaconda3/lib/python3.6/site-packages/sklearn/naive_bayes.py:472: UserWarning: alpha too small will result in numeric errors, setting alpha = 1.0e-10\n",
      "  'setting alpha = %.1e' % _ALPHA_MIN)\n",
      "/anaconda3/lib/python3.6/site-packages/sklearn/naive_bayes.py:472: UserWarning: alpha too small will result in numeric errors, setting alpha = 1.0e-10\n",
      "  'setting alpha = %.1e' % _ALPHA_MIN)\n"
     ]
    },
    {
     "name": "stdout",
     "output_type": "stream",
     "text": [
      "Alphas: 0.0\n",
      "[0.69535928 0.68421053 0.6987131 ]\n",
      "Alphas: 0.2222222222222222\n",
      "[0.71856287 0.69774436 0.70552612]\n",
      "Alphas: 0.4444444444444444\n",
      "[0.66991018 0.64511278 0.62376987]\n",
      "Alphas: 0.6666666666666666\n",
      "[0.60479042 0.57368421 0.53898562]\n",
      "Alphas: 0.8888888888888888\n",
      "[0.53293413 0.4924812  0.4670704 ]\n",
      "Alphas: 1.1111111111111112\n",
      "[0.49401198 0.41804511 0.40499621]\n",
      "Alphas: 1.3333333333333333\n",
      "[0.46257485 0.37819549 0.36941711]\n",
      "Alphas: 1.5555555555555554\n",
      "[0.42814371 0.34360902 0.33838002]\n",
      "Alphas: 1.7777777777777777\n",
      "[0.3989521  0.31278195 0.30431491]\n",
      "Alphas: 2.0\n",
      "[0.36676647 0.28571429 0.28236185]\n"
     ]
    }
   ],
   "source": [
    "# Find optimal smoothing parameter for Naive Bayes\n",
    "alphas = np.linspace(0, 2, 10)\n",
    "for i in alphas:\n",
    "    clf = MultinomialNB(alpha = i, class_prior = None, fit_prior = True)\n",
    "    clf.fit(X, working.group.values)\n",
    "    CV_score = cross_val_score(clf, X, working.group.values, cv = 3)\n",
    "    print(\"Alphas:\", i)\n",
    "    print(CV_score)\n"
   ]
  },
  {
   "cell_type": "markdown",
   "metadata": {},
   "source": [
    "The best optimal smoothing parameter from the Naive Bayes implementation was 0.22. "
   ]
  },
  {
   "cell_type": "markdown",
   "metadata": {},
   "source": [
    "## Results:\n",
    "\n",
    "Between k-NN, TF-IDF and Naive Bayes, Naive Bayes performed the best. I got accuracies around 71% with an alpha value of 0.20. k-NN had the highest accuracy of 35% with n_neighbors = 1 and TF-IDF had the highest accuracy of 60% also with a n_neighbors value of 1. Speed wise, TF-IDF performed the fastest since it was a sparse matrix. "
   ]
  },
  {
   "cell_type": "code",
   "execution_count": 120,
   "metadata": {},
   "outputs": [
    {
     "data": {
      "text/plain": [
       "(15969, 2)"
      ]
     },
     "execution_count": 120,
     "metadata": {},
     "output_type": "execute_result"
    }
   ],
   "source": [
    "# Load in testing data\n",
    "testing = pd.read_csv(\"testing.csv\")\n",
    "testing = testing.dropna()\n",
    "testing.shape"
   ]
  },
  {
   "cell_type": "code",
   "execution_count": 121,
   "metadata": {},
   "outputs": [],
   "source": [
    "# Convert new Bag of Words for testing data\n",
    "X_final = vectorizer.fit(working.text.values)\n",
    "X_final = vectorizer.transform(testing.text.values)\n",
    "X_final = X_final.toarray()"
   ]
  },
  {
   "cell_type": "code",
   "execution_count": 122,
   "metadata": {},
   "outputs": [
    {
     "name": "stdout",
     "output_type": "stream",
     "text": [
      "Final accuracy for testing data with Naive Bayes: 0.9324315861982592\n"
     ]
    }
   ],
   "source": [
    "# Use Naive Bayes algorithm on testing data \n",
    "clf = MultinomialNB(alpha = 0.20, class_prior = None, fit_prior = True)\n",
    "clf.fit(X_final, testing.group.values)\n",
    "preds = clf.predict(X_final)\n",
    "\n",
    "from sklearn.metrics import accuracy_score\n",
    "\n",
    "score = accuracy_score(testing.group.values, preds)\n",
    "print(\"Final accuracy for testing data with Naive Bayes:\", score)\n",
    "\n"
   ]
  },
  {
   "cell_type": "code",
   "execution_count": 45,
   "metadata": {},
   "outputs": [
    {
     "name": "stdout",
     "output_type": "stream",
     "text": [
      "                 group                                               text\n",
      "22           sci.crypt   (Robert Ward) writes: In article writes: and ...\n",
      "30  talk.religion.misc  Brian Kendig writes:  Lev 17:11: For the life ...\n",
      "41         alt.atheism   (Turin Turambar, ME Department of Utter Miser...\n",
      "59  talk.religion.misc  In article   (Bill Carlson) writes:  Since eve...\n",
      "73  talk.religion.misc   (Jon Livesey) writes:  Not, of course, The Gr...\n"
     ]
    }
   ],
   "source": [
    "# Find misclassified quotes \n",
    "misclassified = (preds!=testing.group.values)\n",
    "text = testing[misclassified]\n",
    "print(text[:5])   "
   ]
  },
  {
   "cell_type": "markdown",
   "metadata": {},
   "source": [
    "### Reasoning behind Misclassified Quotes: \n",
    "These texts may have been misclassified due to the fact that the data contains single quotes from extracted from the full group ones. It is difficult to decipher what  actual groupings the text belongs in based on a few sentences since we do not have the bigger picture. In addition to this, there could be an equal number of terms that could fit between two or more groups (or a very slim difference) that could confuse the classifier. Based on this, it is not uncommon to see some of the texts have been misclassified."
   ]
  },
  {
   "cell_type": "markdown",
   "metadata": {},
   "source": [
    "## Statement of Compliance"
   ]
  },
  {
   "cell_type": "markdown",
   "metadata": {},
   "source": [
    "I affirm that I have had no conversation regarding this exam with any persons other than the instructor or the teaching assistant. Further, I certify that the attached work represents my own thinking. Any\n",
    "information, concepts, or words that originate from other sources are cited in accordance with University\n",
    "of Washington guidelines as published in the Academic Code (available on the course website). I am\n",
    "aware of the serious consequences that result from improper discussions with others or from the improper\n",
    "citation of work that is not my own.\n",
    "\n",
    "Nicole Bohra\n",
    "\n",
    "March 17, 2019"
   ]
  }
 ],
 "metadata": {
  "kernelspec": {
   "display_name": "Python 3",
   "language": "python",
   "name": "python3"
  },
  "language_info": {
   "codemirror_mode": {
    "name": "ipython",
    "version": 3
   },
   "file_extension": ".py",
   "mimetype": "text/x-python",
   "name": "python",
   "nbconvert_exporter": "python",
   "pygments_lexer": "ipython3",
   "version": "3.6.5"
  }
 },
 "nbformat": 4,
 "nbformat_minor": 2
}
