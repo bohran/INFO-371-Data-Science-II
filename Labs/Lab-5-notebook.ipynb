{
 "cells": [
  {
   "cell_type": "markdown",
   "metadata": {},
   "source": [
    "# TAKE HOME LAB K-Nearest Neighbors\n",
    "\n",
    "* DUE DATE: Feb 13th at 11:55 pm\n",
    "* CREATED BY: Mary Huibregtse\n",
    "* **Labs with zero discussion will get zero credit**\n",
    "\n",
    "KNN is a **lazy**, **non-parametirc**, **classification** algorithm. We say it is _lazy_ (as apposed to _eager_) because it does not make generalizations based on the training data. Rather, it stores the training data and uses **feature similarity** to classify testing data. KNN is _non-parametirc_ because it does not assume underlying distribtuions, and _calssifies_ data based on the closests K similar points. \n",
    "Today you will classifying flowers using the _iris_ data set using K-NN from SKlearn.\n"
   ]
  },
  {
   "cell_type": "markdown",
   "metadata": {},
   "source": [
    "## Part 1: Data exploration\n"
   ]
  },
  {
   "cell_type": "code",
   "execution_count": 1,
   "metadata": {},
   "outputs": [],
   "source": [
    "# imports\n",
    "import pandas as pd\n",
    "import numpy as np\n",
    "import matplotlib.pyplot as plt\n",
    "from sklearn import datasets\n",
    "from sklearn.preprocessing import StandardScaler\n",
    "from sklearn.linear_model import LogisticRegression as lr\n",
    "import seaborn as sns\n",
    "from sklearn.metrics import confusion_matrix\n",
    "from sklearn.model_selection import train_test_split\n",
    "from sklearn.pipeline import make_pipeline\n",
    "from sklearn.preprocessing import MinMaxScaler\n",
    "from sklearn.model_selection import GridSearchCV\n",
    "from sklearn.model_selection import KFold\n",
    "from sklearn.model_selection import cross_val_score\n",
    "from sklearn.neighbors import KNeighborsClassifier\n",
    "import matplotlib.pyplot as plt\n",
    "%matplotlib inline"
   ]
  },
  {
   "cell_type": "code",
   "execution_count": 2,
   "metadata": {},
   "outputs": [],
   "source": [
    "# Load the iris dataset \n",
    "iris = datasets.load_iris()"
   ]
  },
  {
   "cell_type": "code",
   "execution_count": 3,
   "metadata": {},
   "outputs": [],
   "source": [
    "# move data into pandas dataframe\n",
    "iris_df = pd.DataFrame(columns=iris.feature_names, data=iris.data)\n",
    "iris_df['outcome'] = iris.target\n"
   ]
  },
  {
   "cell_type": "code",
   "execution_count": 5,
   "metadata": {},
   "outputs": [
    {
     "data": {
      "text/html": [
       "<div>\n",
       "<style scoped>\n",
       "    .dataframe tbody tr th:only-of-type {\n",
       "        vertical-align: middle;\n",
       "    }\n",
       "\n",
       "    .dataframe tbody tr th {\n",
       "        vertical-align: top;\n",
       "    }\n",
       "\n",
       "    .dataframe thead th {\n",
       "        text-align: right;\n",
       "    }\n",
       "</style>\n",
       "<table border=\"1\" class=\"dataframe\">\n",
       "  <thead>\n",
       "    <tr style=\"text-align: right;\">\n",
       "      <th></th>\n",
       "      <th>sepal length (cm)</th>\n",
       "      <th>sepal width (cm)</th>\n",
       "      <th>petal length (cm)</th>\n",
       "      <th>petal width (cm)</th>\n",
       "      <th>outcome</th>\n",
       "    </tr>\n",
       "  </thead>\n",
       "  <tbody>\n",
       "    <tr>\n",
       "      <th>count</th>\n",
       "      <td>150.000000</td>\n",
       "      <td>150.000000</td>\n",
       "      <td>150.000000</td>\n",
       "      <td>150.000000</td>\n",
       "      <td>150.000000</td>\n",
       "    </tr>\n",
       "    <tr>\n",
       "      <th>mean</th>\n",
       "      <td>5.843333</td>\n",
       "      <td>3.054000</td>\n",
       "      <td>3.758667</td>\n",
       "      <td>1.198667</td>\n",
       "      <td>1.000000</td>\n",
       "    </tr>\n",
       "    <tr>\n",
       "      <th>std</th>\n",
       "      <td>0.828066</td>\n",
       "      <td>0.433594</td>\n",
       "      <td>1.764420</td>\n",
       "      <td>0.763161</td>\n",
       "      <td>0.819232</td>\n",
       "    </tr>\n",
       "    <tr>\n",
       "      <th>min</th>\n",
       "      <td>4.300000</td>\n",
       "      <td>2.000000</td>\n",
       "      <td>1.000000</td>\n",
       "      <td>0.100000</td>\n",
       "      <td>0.000000</td>\n",
       "    </tr>\n",
       "    <tr>\n",
       "      <th>25%</th>\n",
       "      <td>5.100000</td>\n",
       "      <td>2.800000</td>\n",
       "      <td>1.600000</td>\n",
       "      <td>0.300000</td>\n",
       "      <td>0.000000</td>\n",
       "    </tr>\n",
       "    <tr>\n",
       "      <th>50%</th>\n",
       "      <td>5.800000</td>\n",
       "      <td>3.000000</td>\n",
       "      <td>4.350000</td>\n",
       "      <td>1.300000</td>\n",
       "      <td>1.000000</td>\n",
       "    </tr>\n",
       "    <tr>\n",
       "      <th>75%</th>\n",
       "      <td>6.400000</td>\n",
       "      <td>3.300000</td>\n",
       "      <td>5.100000</td>\n",
       "      <td>1.800000</td>\n",
       "      <td>2.000000</td>\n",
       "    </tr>\n",
       "    <tr>\n",
       "      <th>max</th>\n",
       "      <td>7.900000</td>\n",
       "      <td>4.400000</td>\n",
       "      <td>6.900000</td>\n",
       "      <td>2.500000</td>\n",
       "      <td>2.000000</td>\n",
       "    </tr>\n",
       "  </tbody>\n",
       "</table>\n",
       "</div>"
      ],
      "text/plain": [
       "       sepal length (cm)  sepal width (cm)  petal length (cm)  \\\n",
       "count         150.000000        150.000000         150.000000   \n",
       "mean            5.843333          3.054000           3.758667   \n",
       "std             0.828066          0.433594           1.764420   \n",
       "min             4.300000          2.000000           1.000000   \n",
       "25%             5.100000          2.800000           1.600000   \n",
       "50%             5.800000          3.000000           4.350000   \n",
       "75%             6.400000          3.300000           5.100000   \n",
       "max             7.900000          4.400000           6.900000   \n",
       "\n",
       "       petal width (cm)     outcome  \n",
       "count        150.000000  150.000000  \n",
       "mean           1.198667    1.000000  \n",
       "std            0.763161    0.819232  \n",
       "min            0.100000    0.000000  \n",
       "25%            0.300000    0.000000  \n",
       "50%            1.300000    1.000000  \n",
       "75%            1.800000    2.000000  \n",
       "max            2.500000    2.000000  "
      ]
     },
     "execution_count": 5,
     "metadata": {},
     "output_type": "execute_result"
    }
   ],
   "source": [
    "# take a look at the description of the data (use data.DESCR)\n",
    "iris_df.describe()"
   ]
  },
  {
   "cell_type": "markdown",
   "metadata": {},
   "source": [
    "### Part 2:  Draw various graphs that visualize the different species by color.\n",
    "Create a pairplot where you label the different species by different color. Do this for different combinations of two features on the axes."
   ]
  },
  {
   "cell_type": "code",
   "execution_count": 15,
   "metadata": {
    "scrolled": true
   },
   "outputs": [
    {
     "data": {
      "text/plain": [
       "<seaborn.axisgrid.PairGrid at 0x1a1a1da5f8>"
      ]
     },
     "execution_count": 15,
     "metadata": {},
     "output_type": "execute_result"
    },
    {
     "data": {
      "image/png": "[encoded data removed]",
      "text/plain": [
       "<Figure size 411.5x360 with 6 Axes>"
      ]
     },
     "metadata": {},
     "output_type": "display_data"
    },
    {
     "data": {
      "image/png": "[encoded data removed]",
      "text/plain": [
       "<Figure size 411.5x360 with 6 Axes>"
      ]
     },
     "metadata": {},
     "output_type": "display_data"
    }
   ],
   "source": [
    "# check out seaborn or matplotlib\n",
    "import seaborn as sns\n",
    "sns.pairplot(iris_df, vars=[\"sepal width (cm)\", \"sepal length (cm)\"],hue=\"outcome\")\n",
    "sns.pairplot(iris_df, vars=[\"petal width (cm)\", \"petal length (cm)\"],hue=\"outcome\")\n",
    "\n",
    "\n"
   ]
  },
  {
   "cell_type": "markdown",
   "metadata": {},
   "source": [
    "### Part 3:  Classify the flowers' species based on the petal and sepal data (predictors) using K-NN\n",
    "\n",
    "1. Split your data into a testing (33%) and traing (77%) set\n",
    "2. Run K-NN classifier using K = 1\n",
    "3. print the accuracy score of your model and discuss your results\n",
    "4. Resources: https://scikit-learn.org/stable/modules/generated/sklearn.model_selection.train_test_split.html,   \n",
    "https://scikit-learn.org/stable/modules/generated/sklearn.neighbors.KNeighborsClassifier.html\n",
    "\n",
    "\n"
   ]
  },
  {
   "cell_type": "code",
   "execution_count": 7,
   "metadata": {},
   "outputs": [],
   "source": [
    "#split your data 77%-33% into training and testing, check out train_test_split from sklearn\n",
    "# https://scikit-learn.org/stable/modules/generated/sklearn.model_selection.train_test_split.html\n",
    "train_features, test_feature, train_outcome, test_outcome = train_test_split(iris.data, \n",
    "                                                                             iris.target, \n",
    "                                                                             train_size = 0.66,\n",
    "                                                                             test_size = 0.33,\n",
    "                                                                             random_state = 11)"
   ]
  },
  {
   "cell_type": "code",
   "execution_count": 8,
   "metadata": {},
   "outputs": [
    {
     "data": {
      "text/plain": [
       "0.94"
      ]
     },
     "execution_count": 8,
     "metadata": {},
     "output_type": "execute_result"
    }
   ],
   "source": [
    "# 1) run K-nn with k = 1, then fit your training data\n",
    "# 2) print the .score() of your testing data\n",
    "# Resources: https://scikit-learn.org/stable/modules/generated/sklearn.neighbors.KNeighborsClassifier.html\n",
    "knn_clf = KNeighborsClassifier(n_neighbors = 1)\n",
    "knn_preds = knn_clf.fit(train_features, train_outcome).predict(test_feature)\n",
    "from sklearn.metrics import accuracy_score\n",
    "accuracy_score(knn_preds, test_outcome)"
   ]
  },
  {
   "cell_type": "markdown",
   "metadata": {},
   "source": [
    "### Discuss your resluts here: "
   ]
  },
  {
   "cell_type": "markdown",
   "metadata": {},
   "source": [
    "From the KNN classifier, we get an accuracy score of 0.94. This means that the model is 94% accurate in predicting the flower species based on their sepal and petal data. Since the accuracy levels are high, this shows us that the X variables are good predictors for this model.\n",
    "\n"
   ]
  },
  {
   "cell_type": "markdown",
   "metadata": {},
   "source": [
    "### Part 4: Improving Your Model: Scaling with MinMaxScaler\n",
    "\n",
    "Since your classifier uses **distance** to classify data, it is important to _normalize_ our values. This will **eliminate the unit of measurement** so you can compare data from different variables. \n",
    "\n",
    "1. standardize your data using MinMaxScaler() (already imported above)\n",
    "2. split your data into train/test (77%/33%)\n",
    "2. Run your model with normalized data, k = 1 and print your score\n",
    "3. Did your results improve? Discuss your results\n"
   ]
  },
  {
   "cell_type": "code",
   "execution_count": 9,
   "metadata": {},
   "outputs": [
    {
     "data": {
      "text/plain": [
       "0.94"
      ]
     },
     "execution_count": 9,
     "metadata": {},
     "output_type": "execute_result"
    }
   ],
   "source": [
    "# code bellow:\n",
    "scaler = MinMaxScaler()\n",
    "train_scaled_alt = scaler.fit_transform(train_features)\n",
    "test_scaled = scaler.fit_transform(test_feature)\n",
    "train_scared_alt, test_scaled, train_outcome, test_outcome = train_test_split(iris.data, \n",
    "                                                                             iris.target, \n",
    "                                                                             train_size = 0.66,\n",
    "                                                                             test_size = 0.33,\n",
    "                                                                             random_state = 11)\n",
    "knn_preds = knn_clf.fit(train_scared_alt, train_outcome).predict(test_scaled)\n",
    "accuracy_score(knn_preds, test_outcome)"
   ]
  },
  {
   "cell_type": "markdown",
   "metadata": {},
   "source": [
    "### Discuss your results here: \n",
    "Using the MinMaxScaler standardization, we see the same accuracy level as above of 94%. This means that even after normalization all the variables to having one single unit, the strength of the model still remains at 94% accuracy for predicting flower species."
   ]
  },
  {
   "cell_type": "markdown",
   "metadata": {},
   "source": [
    "\n",
    "\n"
   ]
  },
  {
   "cell_type": "markdown",
   "metadata": {},
   "source": [
    "### Part 5: Trying Different K values:\n",
    "\n",
    "Now use a forloop, GridSearchCV, or pipeline to try k-values 1-15 (with normalized data).\n",
    "\n",
    "1. Print your best K value and corresponding score\n",
    "2. Discuss results"
   ]
  },
  {
   "cell_type": "code",
   "execution_count": 10,
   "metadata": {},
   "outputs": [
    {
     "name": "stdout",
     "output_type": "stream",
     "text": [
      "best k value: 5 with accuracy score of 0.98\n"
     ]
    }
   ],
   "source": [
    "# forloop here\n",
    "accuracies = {}\n",
    "best = 0\n",
    "for k in [1, 2, 3, 4, 5, 6, 7, 8, 9, 10, 11, 12, 13, 14, 15]:\n",
    "    knn_clf = KNeighborsClassifier(n_neighbors = k)\n",
    "    knn_preds = knn_clf.fit(train_scared_alt, train_outcome).predict(test_scaled)\n",
    "    accuracies[k] = accuracy_score(knn_preds, test_outcome)\n",
    "    if accuracies[k] > best:\n",
    "        best = accuracies[k]\n",
    "        max = k\n",
    "accuracies\n",
    "print(\"best k value: \" + str(max) + \" with accuracy score of \" + str(best))\n",
    "\n",
    "\n"
   ]
  },
  {
   "cell_type": "markdown",
   "metadata": {},
   "source": [
    "### Discuss results here: \n",
    "\n",
    "To get the best prediction with the KNN classifier, a K-value of 5 results in the highest accuracy value of 98%. With the K-value of 5, we get a high accuracy score because this is the number of clusters in the algorithm is trying to learn from. This value represents the number of cases that are considered to be the \"nearest\" neighbors. \n"
   ]
  },
  {
   "cell_type": "markdown",
   "metadata": {},
   "source": [
    "\n",
    "\n"
   ]
  },
  {
   "cell_type": "markdown",
   "metadata": {},
   "source": [
    "### Part 5: Confusion Matrix\n",
    "\n",
    "Now we will compare our best K predictions with ground truth (actual outcome) using a confusion matrix. \n",
    "1. Use model.preds() to get the predictions of your test data\n",
    "2. Use a confusion matrix to compare results \n",
    "3. **Discuss your resuts. How well did your model do in predicting flowers?**\n",
    "4. Resources: https://scikit-learn.org/stable/modules/generated/sklearn.metrics.confusion_matrix.html, not sure how to read a confusion matrix? look here https://en.wikipedia.org/wiki/Confusion_matrix\n"
   ]
  },
  {
   "cell_type": "code",
   "execution_count": 23,
   "metadata": {},
   "outputs": [
    {
     "data": {
      "text/plain": [
       "array([[16,  0,  0],\n",
       "       [ 0, 14,  2],\n",
       "       [ 0,  0, 18]])"
      ]
     },
     "execution_count": 23,
     "metadata": {},
     "output_type": "execute_result"
    }
   ],
   "source": [
    "# code confusion_matrix here\n",
    "confusion_matrix(test_outcome, knn_preds)"
   ]
  },
  {
   "cell_type": "markdown",
   "metadata": {},
   "source": [
    "### Discuss your results here:\n"
   ]
  },
  {
   "cell_type": "markdown",
   "metadata": {},
   "source": [
    "From this confusion matrix, it looks like the model worked great in predicting flower species. The model was able to differentiate between sepal and petal data to figure out what flower was the outcome. The prediction errors surrounding the matrix are equal to zero, which indicates that the model was able to correctly predict the species. \n",
    "\n"
   ]
  },
  {
   "cell_type": "code",
   "execution_count": null,
   "metadata": {},
   "outputs": [],
   "source": []
  }
 ],
 "metadata": {
  "kernelspec": {
   "display_name": "Python 3",
   "language": "python",
   "name": "python3"
  },
  "language_info": {
   "codemirror_mode": {
    "name": "ipython",
    "version": 3
   },
   "file_extension": ".py",
   "mimetype": "text/x-python",
   "name": "python",
   "nbconvert_exporter": "python",
   "pygments_lexer": "ipython3",
   "version": "3.6.5"
  }
 },
 "nbformat": 4,
 "nbformat_minor": 2
}
