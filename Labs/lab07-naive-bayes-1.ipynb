{
 "cells": [
  {
   "cell_type": "markdown",
   "metadata": {},
   "source": [
    "# Naive Bayes\n",
    "\n",
    "INFO 371 Winter 2019\n",
    "\n",
    "Lab created by: Zening Qu\n",
    "\n",
    "Deadline: 11:59pm Feb 26, 2019\n",
    "\n",
    "In this lab we will build multinomial naive bayes classifiers to predict movie ratings (`fresh` or `rotten`) based on user quotes. The dataset can be downloaded at https://canvas.uw.edu/courses/1256537/files/54325781/download?download_frd=1 We will split the dataset into three subsets: train, validation, and test. We will perform cross-validation on the train and validation set to pick a good smoothing parameter alpha. Then, we will evaluate the model performance (classification accuracy) using the test dataset."
   ]
  },
  {
   "cell_type": "markdown",
   "metadata": {},
   "source": [
    "## Step 0: Load Dataset\n",
    "\n",
    "First let's load the dataset and split it into train, validation, and test. The code is already written for you. Please feel free to `print` or explore the dataset on your own."
   ]
  },
  {
   "cell_type": "code",
   "execution_count": 42,
   "metadata": {},
   "outputs": [],
   "source": [
    "import numpy as np\n",
    "import pandas as pd\n",
    "from sklearn.model_selection import train_test_split\n",
    "\n",
    "def load_data():\n",
    "    df = pd.read_csv(\"rotten-tomatoes.csv\")\n",
    "    df = df[df.fresh != 'none']\n",
    "    y =  pd.get_dummies(df.fresh).fresh\n",
    "    # split train, validation, and test set\n",
    "    X_train, X_test, y_train, y_test = train_test_split(df.quote, y, test_size=0.1)\n",
    "    X_train, X_val, y_train, y_val = train_test_split(X_train, y_train, test_size=0.1)\n",
    "    return X_train, X_val, X_test, y_train, y_val, y_test\n",
    "\n",
    "X_train, X_val, X_test, y_train, y_val, y_test = load_data()\n"
   ]
  },
  {
   "cell_type": "markdown",
   "metadata": {},
   "source": [
    "## Step 1: Naive Bayes\n",
    "\n",
    "1.1 Let's vectorize the quotes by counting word frequencies and fit a Naive Bayes classifier on the *training* set. Because our features are discrete word counts, we will use `MultinomialNB` from `sklearn` (https://scikit-learn.org/stable/modules/generated/sklearn.naive_bayes.MultinomialNB.html). Please run the code below and report the train and validation accuracy (Hint: 92.6%, 77.3%).\n",
    "\n",
    "1.2 The smoothing prior `alpha` accounts for features not present in the learning samples and prevents zero probabilities in further computations. Setting `alpha =1` is called *Laplace* smoothing; setting `alpha = 0.1` is called *Lidstone* smoothing, setting `alpha = 0` means no smoothing. Please set `alpha` to `0, 0.1, 1` in the code below and report the train and validation accuracy. Among the three parameter settings, which gives the best model performance (i.e., the highest validation accuracy)?"
   ]
  },
  {
   "cell_type": "code",
   "execution_count": 43,
   "metadata": {},
   "outputs": [
    {
     "name": "stdout",
     "output_type": "stream",
     "text": [
      "train accuracy: 0.9242800625632532\n",
      "validation accuracy 0.7913907284768212\n"
     ]
    }
   ],
   "source": [
    "from sklearn.feature_extraction.text import CountVectorizer\n",
    "from sklearn.naive_bayes import MultinomialNB\n",
    "\n",
    "vectorizer = CountVectorizer(stop_words='english')\n",
    "vectorizer = vectorizer.fit(X_train)\n",
    "\n",
    "clf = MultinomialNB(alpha = 1) # todo: set alpha = 0, 0.1, 1\n",
    "\n",
    "X_train_vec = vectorizer.transform(X_train).toarray()\n",
    "clf.fit(X_train_vec, y_train)\n",
    "print('train accuracy:', clf.score(X_train_vec, y_train))\n",
    "\n",
    "X_val_vec = vectorizer.transform(X_val).toarray()\n",
    "print('validation accuracy', clf.score(X_val_vec, y_val))"
   ]
  },
  {
   "cell_type": "markdown",
   "metadata": {},
   "source": [
    "> The train accuracy is 92.6% and validation is 75.8% (with alpha = 1). From the 3 parameters for alpha, alpha = 1 gives the highest validation accuracy of 0.758."
   ]
  },
  {
   "cell_type": "markdown",
   "metadata": {},
   "source": [
    "## Step 2: Cross-Validation to Pick Smoothing Parameter\n",
    "\n",
    "2.1 Now let's try 20 different `alpha` values. Please complete the code below and plot the train and validation accuracies against `alpha` values. Please plot two lines, put `alpha` on the x axis, train and validation accuracy on the y axis. Please use color blue for the train accuracy and orange for the validation accuracy.\n",
    "\n",
    "2.2 Based on your plot, which `alpha` value is the best for model performance (i.e., pick the `alpha` with the best *validation* accuracy)? Report the optimal `alpha` and its train and validation accuracy."
   ]
  },
  {
   "cell_type": "code",
   "execution_count": 68,
   "metadata": {},
   "outputs": [
    {
     "name": "stdout",
     "output_type": "stream",
     "text": [
      "alpha: [0.   0.05 0.1  0.15 0.2  0.25 0.3  0.35 0.4  0.45 0.5  0.55 0.6  0.65\n",
      " 0.7  0.75 0.8  0.85 0.9  0.95 1.  ]\n"
     ]
    },
    {
     "name": "stderr",
     "output_type": "stream",
     "text": [
      "/anaconda3/lib/python3.6/site-packages/sklearn/naive_bayes.py:472: UserWarning: alpha too small will result in numeric errors, setting alpha = 1.0e-10\n",
      "  'setting alpha = %.1e' % _ALPHA_MIN)\n"
     ]
    },
    {
     "name": "stdout",
     "output_type": "stream",
     "text": [
      "train accuracy 0.9580458183825559\n",
      "validation accuracy 0.7649006622516556\n",
      "alpha: [0.   0.05 0.1  0.15 0.2  0.25 0.3  0.35 0.4  0.45 0.5  0.55 0.6  0.65\n",
      " 0.7  0.75 0.8  0.85 0.9  0.95 1.  ]\n"
     ]
    },
    {
     "name": "stderr",
     "output_type": "stream",
     "text": [
      "/anaconda3/lib/python3.6/site-packages/sklearn/naive_bayes.py:472: UserWarning: alpha too small will result in numeric errors, setting alpha = 1.0e-10\n",
      "  'setting alpha = %.1e' % _ALPHA_MIN)\n"
     ]
    },
    {
     "name": "stdout",
     "output_type": "stream",
     "text": [
      "train accuracy 0.9547336461495998\n",
      "validation accuracy 0.7756622516556292\n",
      "alpha: [0.   0.05 0.1  0.15 0.2  0.25 0.3  0.35 0.4  0.45 0.5  0.55 0.6  0.65\n",
      " 0.7  0.75 0.8  0.85 0.9  0.95 1.  ]\n",
      "train accuracy 0.9526175361118778\n",
      "validation accuracy 0.777317880794702\n",
      "alpha: [0.   0.05 0.1  0.15 0.2  0.25 0.3  0.35 0.4  0.45 0.5  0.55 0.6  0.65\n",
      " 0.7  0.75 0.8  0.85 0.9  0.95 1.  ]\n",
      "train accuracy 0.9504094212899071\n",
      "validation accuracy 0.7839403973509934\n",
      "alpha: [0.   0.05 0.1  0.15 0.2  0.25 0.3  0.35 0.4  0.45 0.5  0.55 0.6  0.65\n",
      " 0.7  0.75 0.8  0.85 0.9  0.95 1.  ]\n",
      "train accuracy 0.9485693256049315\n",
      "validation accuracy 0.7831125827814569\n",
      "alpha: [0.   0.05 0.1  0.15 0.2  0.25 0.3  0.35 0.4  0.45 0.5  0.55 0.6  0.65\n",
      " 0.7  0.75 0.8  0.85 0.9  0.95 1.  ]\n",
      "train accuracy 0.947465268193946\n",
      "validation accuracy 0.7847682119205298\n",
      "alpha: [0.   0.05 0.1  0.15 0.2  0.25 0.3  0.35 0.4  0.45 0.5  0.55 0.6  0.65\n",
      " 0.7  0.75 0.8  0.85 0.9  0.95 1.  ]\n",
      "train accuracy 0.9456251725089705\n",
      "validation accuracy 0.7814569536423841\n",
      "alpha: [0.   0.05 0.1  0.15 0.2  0.25 0.3  0.35 0.4  0.45 0.5  0.55 0.6  0.65\n",
      " 0.7  0.75 0.8  0.85 0.9  0.95 1.  ]\n",
      "train accuracy 0.9431410433342534\n",
      "validation accuracy 0.7814569536423841\n",
      "alpha: [0.   0.05 0.1  0.15 0.2  0.25 0.3  0.35 0.4  0.45 0.5  0.55 0.6  0.65\n",
      " 0.7  0.75 0.8  0.85 0.9  0.95 1.  ]\n",
      "train accuracy 0.9414849572177754\n",
      "validation accuracy 0.7855960264900662\n",
      "alpha: [0.   0.05 0.1  0.15 0.2  0.25 0.3  0.35 0.4  0.45 0.5  0.55 0.6  0.65\n",
      " 0.7  0.75 0.8  0.85 0.9  0.95 1.  ]\n",
      "train accuracy 0.9404729045910387\n",
      "validation accuracy 0.7880794701986755\n",
      "alpha: [0.   0.05 0.1  0.15 0.2  0.25 0.3  0.35 0.4  0.45 0.5  0.55 0.6  0.65\n",
      " 0.7  0.75 0.8  0.85 0.9  0.95 1.  ]\n",
      "train accuracy 0.9387248136903119\n",
      "validation accuracy 0.7880794701986755\n",
      "alpha: [0.   0.05 0.1  0.15 0.2  0.25 0.3  0.35 0.4  0.45 0.5  0.55 0.6  0.65\n",
      " 0.7  0.75 0.8  0.85 0.9  0.95 1.  ]\n",
      "train accuracy 0.937436746710829\n",
      "validation accuracy 0.7889072847682119\n",
      "alpha: [0.   0.05 0.1  0.15 0.2  0.25 0.3  0.35 0.4  0.45 0.5  0.55 0.6  0.65\n",
      " 0.7  0.75 0.8  0.85 0.9  0.95 1.  ]\n",
      "train accuracy 0.934860612751863\n",
      "validation accuracy 0.7913907284768212\n",
      "alpha: [0.   0.05 0.1  0.15 0.2  0.25 0.3  0.35 0.4  0.45 0.5  0.55 0.6  0.65\n",
      " 0.7  0.75 0.8  0.85 0.9  0.95 1.  ]\n",
      "train accuracy 0.933204526635385\n",
      "validation accuracy 0.7905629139072847\n",
      "alpha: [0.   0.05 0.1  0.15 0.2  0.25 0.3  0.35 0.4  0.45 0.5  0.55 0.6  0.65\n",
      " 0.7  0.75 0.8  0.85 0.9  0.95 1.  ]\n",
      "train accuracy 0.9322844787928972\n",
      "validation accuracy 0.7913907284768212\n",
      "alpha: [0.   0.05 0.1  0.15 0.2  0.25 0.3  0.35 0.4  0.45 0.5  0.55 0.6  0.65\n",
      " 0.7  0.75 0.8  0.85 0.9  0.95 1.  ]\n",
      "train accuracy 0.9310884165976631\n",
      "validation accuracy 0.7897350993377483\n",
      "alpha: [0.   0.05 0.1  0.15 0.2  0.25 0.3  0.35 0.4  0.45 0.5  0.55 0.6  0.65\n",
      " 0.7  0.75 0.8  0.85 0.9  0.95 1.  ]\n",
      "train accuracy 0.9296163400496826\n",
      "validation accuracy 0.7897350993377483\n",
      "alpha: [0.   0.05 0.1  0.15 0.2  0.25 0.3  0.35 0.4  0.45 0.5  0.55 0.6  0.65\n",
      " 0.7  0.75 0.8  0.85 0.9  0.95 1.  ]\n",
      "train accuracy 0.927776244364707\n",
      "validation accuracy 0.7889072847682119\n",
      "alpha: [0.   0.05 0.1  0.15 0.2  0.25 0.3  0.35 0.4  0.45 0.5  0.55 0.6  0.65\n",
      " 0.7  0.75 0.8  0.85 0.9  0.95 1.  ]\n",
      "train accuracy 0.9265801821694728\n",
      "validation accuracy 0.7913907284768212\n",
      "alpha: [0.   0.05 0.1  0.15 0.2  0.25 0.3  0.35 0.4  0.45 0.5  0.55 0.6  0.65\n",
      " 0.7  0.75 0.8  0.85 0.9  0.95 1.  ]\n",
      "train accuracy 0.9255681295427363\n",
      "validation accuracy 0.7897350993377483\n",
      "alpha: [0.   0.05 0.1  0.15 0.2  0.25 0.3  0.35 0.4  0.45 0.5  0.55 0.6  0.65\n",
      " 0.7  0.75 0.8  0.85 0.9  0.95 1.  ]\n",
      "train accuracy 0.9242800625632532\n",
      "validation accuracy 0.7913907284768212\n"
     ]
    }
   ],
   "source": [
    "alpha = np.arange(0,1.05,0.05)\n",
    "# todo: fit clf on train, report train and validation accuracy\n",
    "training = []\n",
    "validation = []\n",
    "for x in alpha:\n",
    "    print(\"alpha:\", alpha)\n",
    "    clf = MultinomialNB(alpha = x) \n",
    "\n",
    "    X_train_vec = vectorizer.transform(X_train).toarray()\n",
    "    clf.fit(X_train_vec, y_train)\n",
    "    train_score = clf.score(X_train_vec, y_train)\n",
    "    print('train accuracy', train_score)\n",
    "    training.append(train_score)\n",
    "\n",
    "    X_val_vec = vectorizer.transform(X_val).toarray()\n",
    "    val_score = clf.score(X_val_vec, y_val)\n",
    "    print('validation accuracy', val_score)\n",
    "    validation.append(val_score)\n",
    "\n",
    "    clf.fit(X_val_vec, y_val)\n",
    "    "
   ]
  },
  {
   "cell_type": "code",
   "execution_count": 70,
   "metadata": {},
   "outputs": [
    {
     "data": {
      "text/plain": [
       "[<matplotlib.lines.Line2D at 0x1a104a9400>]"
      ]
     },
     "execution_count": 70,
     "metadata": {},
     "output_type": "execute_result"
    },
    {
     "data": {
      "image/png": "[encoded data removed]",
      "text/plain": [
       "<Figure size 432x288 with 1 Axes>"
      ]
     },
     "metadata": {},
     "output_type": "display_data"
    }
   ],
   "source": [
    "# todo: plot x = alpha, y = accuracy, color = [train, validation]\n",
    "import matplotlib.pyplot as plt\n",
    "plt.plot(alpha, training, color = 'blue')\n",
    "plt.plot(alpha, validation, color = 'orange')\n",
    "\n"
   ]
  },
  {
   "cell_type": "code",
   "execution_count": 83,
   "metadata": {},
   "outputs": [
    {
     "name": "stdout",
     "output_type": "stream",
     "text": [
      "train accuracy: 0.9210068725676906\n",
      "validation accuracy 0.9097682119205298\n"
     ]
    }
   ],
   "source": [
    "# combine train and validation to form a new train set\n",
    "X_train_total = X_train.append(X_val)\n",
    "y_train_total = y_train.append(y_val)\n",
    "\n",
    "# todo: fit Naive Bayes classifier on X_train_total and y_train_total\n",
    "clf = MultinomialNB(alpha = 1) # todo: set alpha = 0, 0.1, 1\n",
    "\n",
    "X_train_vec = vectorizer.transform(X_train_total).toarray()\n",
    "clf.fit(X_train_vec, y_train_total)\n",
    "print('train accuracy:', clf.score(X_train_vec, y_train_total))\n",
    "\n",
    "# todo: evaluate model performance on X_test and y_test, report test accuracy\n",
    "X_val_vec = vectorizer.transform(X_val).toarray()\n",
    "print('validation accuracy', clf.score(X_val_vec, y_val))"
   ]
  },
  {
   "cell_type": "markdown",
   "metadata": {},
   "source": [
    "## Step 3: Evaluate on Test Set\n",
    "\n",
    "3.1 With the optimal `alpha` you found in step 2, fit the Naive Bayes classifer on (train + validation) set and evaluate the model performance on the test set. Report the test accuracy. \n",
    "\n",
    "Note: After measuring test accuracy, do **not** change `alpha` any more. You should only change `alpha` during cross-validation (step 2). If you change `alpha` after looking at test acccuracy, you leak information from the test set to the model and your test accuracy will not be an unbiased estimator of the model's prediction accuracy any more!"
   ]
  },
  {
   "cell_type": "code",
   "execution_count": 84,
   "metadata": {},
   "outputs": [
    {
     "name": "stdout",
     "output_type": "stream",
     "text": [
      "train accuracy: 0.9223317048935994\n",
      "validation accuracy 0.9105960264900662\n"
     ]
    }
   ],
   "source": [
    "clf = MultinomialNB(alpha = 0.95) \n",
    "\n",
    "X_train_vec = vectorizer.transform(X_train_total).toarray()\n",
    "clf.fit(X_train_vec, y_train_total)\n",
    "print('train accuracy:', clf.score(X_train_vec, y_train_total))\n",
    "\n",
    "# todo: evaluate model performance on X_test and y_test, report test accuracy\n",
    "X_val_vec = vectorizer.transform(X_val).toarray()\n",
    "print('validation accuracy', clf.score(X_val_vec, y_val))"
   ]
  }
 ],
 "metadata": {
  "kernelspec": {
   "display_name": "Python 3",
   "language": "python",
   "name": "python3"
  },
  "language_info": {
   "codemirror_mode": {
    "name": "ipython",
    "version": 3
   },
   "file_extension": ".py",
   "mimetype": "text/x-python",
   "name": "python",
   "nbconvert_exporter": "python",
   "pygments_lexer": "ipython3",
   "version": "3.6.5"
  }
 },
 "nbformat": 4,
 "nbformat_minor": 2
}
